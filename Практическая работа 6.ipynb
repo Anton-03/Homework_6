{
 "cells": [
  {
   "cell_type": "markdown",
   "metadata": {},
   "source": [
    "# Задача 1"
   ]
  },
  {
   "cell_type": "code",
   "execution_count": 22,
   "metadata": {},
   "outputs": [
    {
     "name": "stdout",
     "output_type": "stream",
     "text": [
      "6\n",
      "1.4913888888888889\n"
     ]
    }
   ],
   "source": [
    "n=int(input())\n",
    "i = 2\n",
    "s=1\n",
    "while i != n + 1:\n",
    "    s += 1/(i**2)\n",
    "    i += 1\n",
    "print(s)\n"
   ]
  },
  {
   "cell_type": "markdown",
   "metadata": {},
   "source": [
    "# Задача 2"
   ]
  },
  {
   "cell_type": "code",
   "execution_count": 38,
   "metadata": {},
   "outputs": [
    {
     "name": "stdout",
     "output_type": "stream",
     "text": [
      "0.0001\n",
      "0.0001\n"
     ]
    }
   ],
   "source": [
    "n=float(input())\n",
    "if n>0:\n",
    "    n=n-n//1\n",
    "else:\n",
    "    print(n)\n",
    "\n",
    "print(n)"
   ]
  },
  {
   "cell_type": "markdown",
   "metadata": {},
   "source": [
    "# Задача 3"
   ]
  },
  {
   "cell_type": "code",
   "execution_count": 43,
   "metadata": {},
   "outputs": [
    {
     "name": "stdout",
     "output_type": "stream",
     "text": [
      "12.43\n",
      "12 43\n"
     ]
    }
   ],
   "source": [
    "import math\n",
    "x = float(input())\n",
    "b = x * 100\n",
    "a = math.floor(b // 100)\n",
    "m = math.floor(b % 100)\n",
    "print(a, m)"
   ]
  },
  {
   "cell_type": "markdown",
   "metadata": {},
   "source": [
    "# Задача 4"
   ]
  },
  {
   "cell_type": "code",
   "execution_count": 55,
   "metadata": {},
   "outputs": [
    {
     "name": "stdout",
     "output_type": "stream",
     "text": [
      "5.7\n",
      "6\n"
     ]
    }
   ],
   "source": [
    "n=float(input())\n",
    "n=n*10\n",
    "a=n//10\n",
    "if n%10>=5:\n",
    "    a=a+1\n",
    "    print(int(a))\n",
    "else:\n",
    "    print(int(a))"
   ]
  },
  {
   "cell_type": "markdown",
   "metadata": {},
   "source": [
    "# Задача 5"
   ]
  },
  {
   "cell_type": "code",
   "execution_count": 56,
   "metadata": {},
   "outputs": [
    {
     "name": "stdout",
     "output_type": "stream",
     "text": [
      "12\n",
      "145\n",
      "0\n",
      "162 40\n"
     ]
    }
   ],
   "source": [
    "p,x,y = int(input()),int(input()),int(input())\n",
    "N = 100 * x + y\n",
    "S = int(N * (100 + p) / 100)\n",
    "print(S // 100, S % 100)"
   ]
  },
  {
   "cell_type": "markdown",
   "metadata": {},
   "source": [
    "# Задача 6"
   ]
  },
  {
   "cell_type": "code",
   "execution_count": 57,
   "metadata": {},
   "outputs": [
    {
     "name": "stdout",
     "output_type": "stream",
     "text": [
      "12\n",
      "179\n",
      "0\n",
      "5\n",
      "315 43\n"
     ]
    }
   ],
   "source": [
    "p,x,y,k=int(input()),int(input()),int(input()),int(input())\n",
    "sum = 100 * x + y  \n",
    "for i in range(k):\n",
    "    sum += int(sum * p / 100)\n",
    "\n",
    "print(sum // 100, sum % 100)"
   ]
  },
  {
   "cell_type": "markdown",
   "metadata": {},
   "source": [
    "# Задача 7"
   ]
  },
  {
   "cell_type": "code",
   "execution_count": 86,
   "metadata": {},
   "outputs": [
    {
     "name": "stdout",
     "output_type": "stream",
     "text": [
      "5\n",
      "7.100\n",
      "1.000\n",
      "2.000\n",
      "3.000\n",
      "4.000\n",
      "5.000\n",
      "6.000\n",
      "24441.5\n"
     ]
    }
   ],
   "source": [
    "n,x,a = int(input()),float(input()),float(input())\n",
    "p=a\n",
    "for i in range (n):\n",
    "    t=float(input())\n",
    "    p=p*x+t\n",
    "j=10\n",
    "K=(int(p*j)%j)\n",
    "while K!=0:\n",
    "    j*=10\n",
    "    K=(int(p*j)%10)\n",
    "if j!=10:\n",
    "    p=((p*(j/10))//1)/(j/10)\n",
    "    print(p)\n",
    "else:\n",
    "    print(int(p))"
   ]
  },
  {
   "cell_type": "markdown",
   "metadata": {},
   "source": [
    "# Задача 8"
   ]
  },
  {
   "cell_type": "code",
   "execution_count": 59,
   "metadata": {},
   "outputs": [
    {
     "name": "stdout",
     "output_type": "stream",
     "text": [
      "1\n",
      "7\n",
      "9\n",
      "0\n",
      "4.163331998932266\n"
     ]
    }
   ],
   "source": [
    "from math import sqrt\n",
    "sum = 0\n",
    "p = 0\n",
    "x = int(input())\n",
    "n = 0\n",
    "while x != 0:\n",
    "    n += 1\n",
    "    sum += x\n",
    "    p += x ** 2\n",
    "    x = int(input())\n",
    "print(sqrt((p - sum ** 2 / n) / (n - 1)))"
   ]
  },
  {
   "cell_type": "markdown",
   "metadata": {},
   "source": [
    "# Задача 9"
   ]
  },
  {
   "cell_type": "code",
   "execution_count": 78,
   "metadata": {},
   "outputs": [
    {
     "name": "stdout",
     "output_type": "stream",
     "text": [
      "1\n",
      "2\n",
      "1\n",
      "-1.0\n"
     ]
    }
   ],
   "source": [
    "import math\n",
    "a,b,c= float(input()),float(input()),float(input())\n",
    "D=b**2-4*a*c\n",
    "\n",
    "if D==0:\n",
    "    x=(-b+sqrt(D))/2*a\n",
    "    print(x)\n",
    "    \n",
    "elif D<0:\n",
    "    print(' ')\n",
    "    \n",
    "else: \n",
    "    x1=(-b+sqrt(D))/2*a\n",
    "    x2=(-b-sqrt(D))/2*a\n",
    "    if x1>x2:\n",
    "        x1,x2 = x2,x1\n",
    "        print(x2,x1)\n",
    "    else:\n",
    "        print(x1,x2)"
   ]
  },
  {
   "cell_type": "markdown",
   "metadata": {},
   "source": [
    "# Задача 10"
   ]
  },
  {
   "cell_type": "code",
   "execution_count": 79,
   "metadata": {},
   "outputs": [
    {
     "name": "stdout",
     "output_type": "stream",
     "text": [
      "1\n",
      "-7.5\n",
      "3\n",
      "2 0.4239663260874824 7.076033673912518\n"
     ]
    }
   ],
   "source": [
    "import math\n",
    "a,b,c= float(input()),float(input()),float(input())\n",
    "D=b**2-4*a*c\n",
    "\n",
    "if D==0:\n",
    "    x=(-b+sqrt(D))/2*a\n",
    "    print(1, x)\n",
    "    \n",
    "elif D<0:\n",
    "    print(0)\n",
    "    \n",
    "elif D>0: \n",
    "    x1=(-b+sqrt(D))/2*a\n",
    "    x2=(-b-sqrt(D))/2*a\n",
    "    if x1>x2:\n",
    "        x1,x2 = x2,x1\n",
    "        print(2,x1,x2)\n",
    "    else:\n",
    "        print(2,x1,x2)\n",
    "else:\n",
    "    print(3)\n",
    "    "
   ]
  },
  {
   "cell_type": "markdown",
   "metadata": {},
   "source": [
    "# Задача 11"
   ]
  },
  {
   "cell_type": "code",
   "execution_count": 80,
   "metadata": {},
   "outputs": [
    {
     "name": "stdout",
     "output_type": "stream",
     "text": [
      "1\n",
      "2\n",
      "3\n",
      "4\n",
      "-1\n",
      "-1\n",
      "1.0 -1.0\n"
     ]
    }
   ],
   "source": [
    "a,b,c,d,e,f = float(input()),float(input()),float(input()),float(input()),float(input()),float(input())\n",
    "if b != 0:\n",
    "    y = (c * e - a * f) / (b * c - a * d)\n",
    "    if c != 0:\n",
    "        x = (f - d * y) / c\n",
    "        print(x, y)\n",
    "else:\n",
    "    if a != 0:\n",
    "        x = (f * b - d * e) / (b * c - d * a)\n",
    "        if d != 0:\n",
    "            y = (f - c * x) / d\n",
    "            print(x, y)"
   ]
  },
  {
   "cell_type": "markdown",
   "metadata": {},
   "source": [
    "# Задача 12"
   ]
  },
  {
   "cell_type": "code",
   "execution_count": 82,
   "metadata": {},
   "outputs": [
    {
     "name": "stdout",
     "output_type": "stream",
     "text": [
      "0\n",
      "2\n",
      "0\n",
      "4\n",
      "1\n",
      "2\n",
      "4 0.5\n"
     ]
    }
   ],
   "source": [
    "a,b,c,d,e,f = float(input()),float(input()),float(input()),float(input()),float(input()),float(input())\n",
    "if a == 0 and b == 0 and c == 0 and d == 0 and e == 0 and f == 0:\n",
    "    print(5)\n",
    "elif a * d == b * c and a * f != c * e:\n",
    "    print(0)\n",
    "elif a == 0 and b == 0 and e != 0:\n",
    "    print(0)\n",
    "elif c == 0 and d == 0 and f != 0:\n",
    "    print(0)\n",
    "elif a == 0 and c == 0 and b * f != d * e:\n",
    "    print(0)\n",
    "elif b == 0 and d == 0 and a * f != c * e:\n",
    "    print(0)\n",
    "elif a * d == b * c and a * f == c * e:\n",
    "    if b == 0 and d == 0:\n",
    "        if a != 0 and c != 0:\n",
    "            print(3, e / a)\n",
    "        elif a == 0:\n",
    "            if e == 0:\n",
    "                print(3, f / c)\n",
    "        elif c == 0:\n",
    "            if f == 0:\n",
    "                print(3, e / a)\n",
    "    elif a == 0 and c == 0:\n",
    "        if b != 0:\n",
    "            print(4, e / b)\n",
    "        elif d != 0:\n",
    "            print(4, f / d)\n",
    "    elif b != 0:\n",
    "        print(1, -a / b, e / b)\n",
    "    elif d != 0:\n",
    "        print(1, -c / d, f / d)\n",
    "else:\n",
    "    x = (e * d - b * f) / (a * d - b * c)\n",
    "    y = (a * f - e * c) / (a * d - b * c)\n",
    "    print(2, x, y)"
   ]
  },
  {
   "cell_type": "markdown",
   "metadata": {},
   "source": [
    "# Задача 13"
   ]
  },
  {
   "cell_type": "code",
   "execution_count": 106,
   "metadata": {},
   "outputs": [
    {
     "name": "stdout",
     "output_type": "stream",
     "text": [
      "grqqeqrhheqth\n",
      "q\n",
      "t\n",
      "grqqe\n",
      "grqqeqrhheq\n",
      "gqerhqh\n",
      "rqqhet\n",
      "htqehhrqeqqrg\n",
      "hqhreqg\n",
      "13\n"
     ]
    }
   ],
   "source": [
    "Str=input()\n",
    "print(Str[2])#1 Тритий символ\n",
    "print(Str[-2])#2 Предпоследний\n",
    "print(Str[0:5])#3 Первые пять\n",
    "print(Str[0:-2])#4 Вся строка, кроме последних двух\n",
    "print(Str[::2])#5 Символы с четными индексами\n",
    "print(Str[1::2])#6 Символы с нечетными индексами\n",
    "print(Str[::-1])#7 В обратном порядке\n",
    "print(Str[::-2])#8 Все символы строки через один в обратном порядке\n",
    "print(len(Str))#9 Подсчет символов"
   ]
  },
  {
   "cell_type": "markdown",
   "metadata": {},
   "source": [
    "# Задача 14"
   ]
  },
  {
   "cell_type": "code",
   "execution_count": 111,
   "metadata": {},
   "outputs": [
    {
     "name": "stdout",
     "output_type": "stream",
     "text": [
      "office\n",
      "1 2\n"
     ]
    }
   ],
   "source": [
    "s = input()\n",
    "a = s.find('f')\n",
    "b = s.rfind('f')\n",
    "if a == -1:\n",
    "    print()\n",
    "elif a == b:\n",
    "    print(a)\n",
    "else:\n",
    "    print(a, b)"
   ]
  },
  {
   "cell_type": "markdown",
   "metadata": {},
   "source": [
    "# Задача 15"
   ]
  },
  {
   "cell_type": "code",
   "execution_count": 113,
   "metadata": {},
   "outputs": [
    {
     "name": "stdout",
     "output_type": "stream",
     "text": [
      "ashfewfwfhcehr\n",
      "asr\n"
     ]
    }
   ],
   "source": [
    "s = input()\n",
    "s = s[:s.find('h')] + s[s.rfind('h') + 1:]\n",
    "print(s)"
   ]
  },
  {
   "cell_type": "markdown",
   "metadata": {},
   "source": [
    "# Задача 16"
   ]
  },
  {
   "cell_type": "code",
   "execution_count": 115,
   "metadata": {},
   "outputs": [
    {
     "name": "stdout",
     "output_type": "stream",
     "text": [
      "qwertyhasdfghzxcvb\n",
      "qwertyhasdfgasdfghzxcvb\n"
     ]
    }
   ],
   "source": [
    "s = input()\n",
    "s=s[:s.find('h')+1] + s[s.find('h')+1:s.rfind('h')]*2 + s[s.rfind('h'):]\n",
    "print(s)"
   ]
  },
  {
   "cell_type": "markdown",
   "metadata": {},
   "source": [
    "# Задача 17"
   ]
  },
  {
   "cell_type": "code",
   "execution_count": 120,
   "metadata": {},
   "outputs": [
    {
     "name": "stdout",
     "output_type": "stream",
     "text": [
      "qwerty\n",
      "-2\n"
     ]
    }
   ],
   "source": [
    "s=input()\n",
    "q=0\n",
    "for i in range(len(s)):\n",
    "    if s[i]==\"f\":\n",
    "        q+=1\n",
    "        if q==2:\n",
    "            print(i)\n",
    "            \n",
    "if q==1:\n",
    "        print('-1')\n",
    "else:\n",
    "    print('-2')"
   ]
  },
  {
   "cell_type": "markdown",
   "metadata": {},
   "source": [
    "# Задача 18"
   ]
  },
  {
   "cell_type": "code",
   "execution_count": 130,
   "metadata": {},
   "outputs": [
    {
     "name": "stdout",
     "output_type": "stream",
     "text": [
      "Hello, world!\n",
      "world! Hello,\n"
     ]
    }
   ],
   "source": [
    "s = input()\n",
    "a = s[0:s.find(' ')]\n",
    "b = s[s.find(' ')+1:]\n",
    "print(b,a)"
   ]
  },
  {
   "cell_type": "markdown",
   "metadata": {},
   "source": [
    "# Задача 19"
   ]
  },
  {
   "cell_type": "code",
   "execution_count": 137,
   "metadata": {},
   "outputs": [
    {
     "name": "stdout",
     "output_type": "stream",
     "text": [
      "asd wfwg fwe\n",
      "3\n"
     ]
    }
   ],
   "source": [
    "s = input()\n",
    "kol=s.count(' ')+1\n",
    "print(kol)"
   ]
  },
  {
   "cell_type": "markdown",
   "metadata": {},
   "source": [
    "# Задача 20"
   ]
  },
  {
   "cell_type": "code",
   "execution_count": 146,
   "metadata": {},
   "outputs": [
    {
     "name": "stdout",
     "output_type": "stream",
     "text": [
      "1+1=11\n",
      "one+one=oneone\n"
     ]
    }
   ],
   "source": [
    "s=input()\n",
    "print(s.replace('1', 'one'))"
   ]
  },
  {
   "cell_type": "markdown",
   "metadata": {},
   "source": [
    "# Задача 21"
   ]
  },
  {
   "cell_type": "code",
   "execution_count": 149,
   "metadata": {},
   "outputs": [
    {
     "name": "stdout",
     "output_type": "stream",
     "text": [
      "1@2@3@4@\n",
      "1234\n"
     ]
    }
   ],
   "source": [
    "print(input().replace('@',''))"
   ]
  },
  {
   "cell_type": "markdown",
   "metadata": {},
   "source": [
    "# Задача 22"
   ]
  },
  {
   "cell_type": "code",
   "execution_count": 154,
   "metadata": {},
   "outputs": [
    {
     "name": "stdout",
     "output_type": "stream",
     "text": [
      "hhhhhh\n",
      "hHHHHHHh\n"
     ]
    }
   ],
   "source": [
    "s = input()\n",
    "s=s[:s.find('h')+1]+s.replace('h','H')+s[-1:s.rfind('h')+1]\n",
    "\n",
    "print(s)"
   ]
  },
  {
   "cell_type": "markdown",
   "metadata": {},
   "source": [
    "# Задача 23"
   ]
  },
  {
   "cell_type": "code",
   "execution_count": 163,
   "metadata": {},
   "outputs": [
    {
     "name": "stdout",
     "output_type": "stream",
     "text": [
      "asdf\n",
      "a*s*d*f\n"
     ]
    }
   ],
   "source": [
    "print(\"*\".join(input()))"
   ]
  },
  {
   "cell_type": "markdown",
   "metadata": {},
   "source": [
    "# Задача 24"
   ]
  },
  {
   "cell_type": "code",
   "execution_count": 166,
   "metadata": {},
   "outputs": [
    {
     "name": "stdout",
     "output_type": "stream",
     "text": [
      "python\n",
      "yton\n"
     ]
    }
   ],
   "source": [
    "s = input()\n",
    "t = ''\n",
    "for i in range(len(s)):\n",
    "    if i % 3 != 0:\n",
    "        t = t + s[i]\n",
    "print(t)"
   ]
  }
 ],
 "metadata": {
  "kernelspec": {
   "display_name": "Python 3",
   "language": "python",
   "name": "python3"
  },
  "language_info": {
   "codemirror_mode": {
    "name": "ipython",
    "version": 3
   },
   "file_extension": ".py",
   "mimetype": "text/x-python",
   "name": "python",
   "nbconvert_exporter": "python",
   "pygments_lexer": "ipython3",
   "version": "3.7.6"
  }
 },
 "nbformat": 4,
 "nbformat_minor": 4
}
